{
 "cells": [
  {
   "cell_type": "markdown",
   "id": "5aa9bf47",
   "metadata": {},
   "source": [
    "# Data Science Meets Government of Canada Web Services\n",
    "\n",
    "***By Anita Li, Deepak Sidhu, Jianru Deng, Sakshi Jain***<br>\n",
    "*June 28th, 2021*\n",
    "\n"
   ]
  },
  {
   "cell_type": "markdown",
   "id": "e9063eb6",
   "metadata": {},
   "source": [
    "## Final Report\n",
    "\n",
    "### 1. Executive Summary\n",
    "\n",
    "\n"
   ]
  },
  {
   "cell_type": "markdown",
   "id": "e9662ed8",
   "metadata": {},
   "source": [
    "\n",
    "TODO"
   ]
  },
  {
   "cell_type": "markdown",
   "id": "ac361e94",
   "metadata": {},
   "source": [
    "### 2. Introduction\n",
    "\n",
    "\n"
   ]
  },
  {
   "cell_type": "markdown",
   "id": "130fa2ec",
   "metadata": {},
   "source": [
    "TODO\n"
   ]
  },
  {
   "cell_type": "markdown",
   "id": "1a87f4a8",
   "metadata": {},
   "source": [
    "### 3. Data Science Methods\n"
   ]
  },
  {
   "cell_type": "markdown",
   "id": "362d1217",
   "metadata": {},
   "source": [
    "#### 3.1 Jupyter Book\n",
    "\n"
   ]
  },
  {
   "cell_type": "markdown",
   "id": "84936fcb",
   "metadata": {},
   "source": [
    "#### 3.2 Time Series Forecasting\n",
    "\n",
    "TODO"
   ]
  },
  {
   "cell_type": "markdown",
   "id": "8947e6ba",
   "metadata": {},
   "source": [
    "#### 3.3 Prediction on Web Satisfaction \n",
    "\n",
    "TODO\n"
   ]
  },
  {
   "cell_type": "markdown",
   "id": "5330d24d",
   "metadata": {},
   "source": [
    "#### 3.4 Survey Feedback Topic Modeling\n",
    "\n",
    "\n",
    "   The GoC’s web services team administers survey to 5% of daily visitors, to gauge their browsing experience. This survey includes an `open` text question on *“Why the visitors are not able to complete what they came to do?”* Modeling and identifying major topics from the feedback responses will provide crucial insights in modifying and optimizing the delivery of web services.\n",
    "\n",
    "The data science techniques of topic modeling with **LDA** {cite}`944937` and **GSDMM** {cite}`yin2014dirichlet`, and clustering with **K-means** {cite}`xu2010web` were implemented to model the text feedback data. LDA and GSDMM provide topic groups based on the distribution of words that make up each topic cluster. Specifically, LDA is appropriate for lengthier text documents that are composed of multiple topics, and GSDMM is suitable for text documents based on a single topic. While K-means clusters text feedback based on proximity measure of observations in the geometric space.\n",
    "\n",
    "In the analysis and evaluation of these models, the GSDMM model works best in terms of assigning topic labels to test feedback. The GSDMM model can identify more specific and finer topic clusters compared to the other models. We can see the results of the different models topic assignment on the test feedback below.\n",
    "\n",
    "```{figure} img/feedback-results.png \n",
    "---\n",
    "height: 250px\n",
    "name: feedback-examples\n",
    "---\n",
    "Example of test text feedback and topic assignments by the models\n",
    "```\n",
    "\n",
    "However, there are some areas of improvement for optimizing the analysis of text feedback data. First, we only have 3,181 feedback data, which is quite limited in training a sophisticated machine learning model. Second, it is crucial to improve the preprocessing of the text to include spell check, language, and anomaly detection to ensure accurate responses to the question being asked. Next, we don’t have ground truth labels for objectively evaluating the topic assignments of the models. Hence, it is helpful to train a supervised machine learning model on text feedback data and topic labels assigned by the GSDMM model, so that we can evaluate model performance and automatically assign topic for future feedback responses.\n",
    "\n",
    "Some of the difficulties encountered were tuning the hyperparameters for the unsupervised machine learning models. It is important to spend more time on this to train the optimal model on text data. Also in terms of clustering techniques, it is important to consider density-based methods such as **DBSCAN** and **HDBSCAN**. The problem of using these methods is that we need to create a custom function that can predict labels for test examples.\n",
    "\n",
    "\n"
   ]
  },
  {
   "cell_type": "markdown",
   "id": "680f7c19",
   "metadata": {},
   "source": [
    "\n",
    "### 4. Data Product and Results\n"
   ]
  },
  {
   "cell_type": "markdown",
   "id": "6fc44dbb",
   "metadata": {},
   "source": [
    " The data product for the capstone project is a Jupyter Book that provides reproducible workflow and documentation of the use cases of data science techniques applicable to web analytics data. The GoC team will use the Jupyter Book as a guide on how to implement data science techniques to gain useful insights and knowledge to inform business decisions and processes. Also, the Jupyter Book will emphasize the importance of reproducibility and how this streamlines the workflow process within the team. Furthermore, it is quite important to make reproducibility an important aspect considered in their workflow processes. Since other organizations have shifted to  reproducibility of their processes, to ensure reliability and integrity of results. More importantly, it will also provide the foundation and framework to communicate to managers the importance of incorporating data science as an approach in the processes of GoC. \n",
    "\n",
    "The advantage of using Jupyter Book is that it is an open-source tool for producing quality books based on computational material and data science techniques implemented using the Python language. Also, it provides a clear and automated workflow for the analysis of data. Furthermore, it demonstrates in detail the data science techniques applicable to web analytics data. Some of the disadvantages of using Jupyter Book is that there is quite a learning curve, and it is quite specific to Python programmers. Effective collaboration is important if multiple individuals are working on the same project. The dependencies and requirements specific to the operating system are an issue, hence the capstone team has provided an environment file to reproduce the results in building the Jupyter book."
   ]
  },
  {
   "cell_type": "markdown",
   "id": "747236f2",
   "metadata": {},
   "source": [
    "### 5. Conclusions and Recommendations"
   ]
  },
  {
   "cell_type": "markdown",
   "id": "018cfb53",
   "metadata": {},
   "source": [
    "The question of interest for the web services team of GoC is stated as follows, *“What are the use cases of data science techniques for the GoC’s web analytics data?”* The data product of Jupyter Book produced by the capstone team, provides reproducible workflow and detailed documentation of key data science techniques applicable to web analytics data. Also, it includes discussion and resources of additional data science topics applicable to the web data. The Jupyter Book addresses the pressing needs of the GoC’s web services team since it provides collective strategies of data science subfields that can be implemented to transform the processes of the web services team, and it also emphasizes reproducibility as a core component for their analysis pipeline.\n",
    "\n",
    "The recommendation for the web services team to improve the project in the future is to implement other data science techniques mentioned in the Jupyter Book. Techniques such as accessible ChatBot, Visitor Segmentation, A/B testing, Recommendation system and Spell Checker will improve and optimize the web services provided by the GoC. Also, the web services team can use data science applications mentioned as collective strategies to gain crucial insights and aid decision-making processes.\n"
   ]
  },
  {
   "cell_type": "markdown",
   "id": "64d7fcfd",
   "metadata": {},
   "source": [
    "### 6. Bibliography\n",
    "\n",
    "```{bibliography} references.bib\n",
    "```"
   ]
  }
 ],
 "metadata": {
  "kernelspec": {
   "display_name": "Python 3",
   "language": "python",
   "name": "python3"
  },
  "language_info": {
   "codemirror_mode": {
    "name": "ipython",
    "version": 3
   },
   "file_extension": ".py",
   "mimetype": "text/x-python",
   "name": "python",
   "nbconvert_exporter": "python",
   "pygments_lexer": "ipython3",
   "version": "3.8.3"
  }
 },
 "nbformat": 4,
 "nbformat_minor": 5
}
