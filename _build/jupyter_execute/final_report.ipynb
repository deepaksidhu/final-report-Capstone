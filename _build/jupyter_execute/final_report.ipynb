{
 "cells": [
  {
   "cell_type": "markdown",
   "id": "153b954c",
   "metadata": {},
   "source": [
    "# Data Science Meets Government of Canada Web Services\n",
    "\n",
    "***By Anita Li, Deepak Sidhu, Jianru Deng, Sakshi Jain***<br>\n",
    "*June 28th, 2021*\n",
    "\n"
   ]
  },
  {
   "cell_type": "markdown",
   "id": "d8f5644e",
   "metadata": {},
   "source": [
    "## Final Report\n",
    "\n",
    "### 1. Executive Summary\n",
    "\n",
    "\n"
   ]
  },
  {
   "cell_type": "markdown",
   "id": "a7fdc278",
   "metadata": {},
   "source": [
    "\n",
    "TODO"
   ]
  },
  {
   "cell_type": "markdown",
   "id": "37a283ef",
   "metadata": {},
   "source": [
    "### 2. Introduction\n",
    "\n",
    "\n"
   ]
  },
  {
   "cell_type": "markdown",
   "id": "47ac31b7",
   "metadata": {},
   "source": [
    "TODO\n"
   ]
  },
  {
   "cell_type": "markdown",
   "id": "4a26bf63",
   "metadata": {},
   "source": [
    "### 3. Data Science Methods\n"
   ]
  },
  {
   "cell_type": "markdown",
   "id": "f8b1bdc4",
   "metadata": {},
   "source": [
    "#### 3.1 Jupyter Book\n",
    "\n"
   ]
  },
  {
   "cell_type": "markdown",
   "id": "454c39f8",
   "metadata": {},
   "source": [
    "#### 3.2 Time Series Forecasting\n",
    "\n",
    "TODO"
   ]
  },
  {
   "cell_type": "markdown",
   "id": "47639482",
   "metadata": {},
   "source": [
    "#### 3.3 Prediction on Web Satisfaction \n",
    "\n",
    "TODO\n"
   ]
  },
  {
   "cell_type": "markdown",
   "id": "bbbe1246",
   "metadata": {},
   "source": [
    "#### 3.4 Survey Clustering\n",
    "\n",
    "TODO\n",
    "\n"
   ]
  },
  {
   "cell_type": "markdown",
   "id": "2d20009d",
   "metadata": {},
   "source": [
    "\n",
    "### 4. Data Product and Results\n"
   ]
  },
  {
   "cell_type": "markdown",
   "id": "b81b0806",
   "metadata": {},
   "source": [
    "TODO"
   ]
  },
  {
   "cell_type": "markdown",
   "id": "211d2c39",
   "metadata": {},
   "source": [
    "### 5. Conclusions and Recommendations"
   ]
  },
  {
   "cell_type": "markdown",
   "id": "dcf3a5c2",
   "metadata": {},
   "source": [
    "TODO"
   ]
  },
  {
   "cell_type": "markdown",
   "id": "a68202b3",
   "metadata": {},
   "source": [
    "### 6. Bibliography\n",
    "\n",
    "```{bibliography} references.bib\n",
    "```"
   ]
  }
 ],
 "metadata": {
  "kernelspec": {
   "display_name": "Python 3",
   "language": "python",
   "name": "python3"
  },
  "language_info": {
   "codemirror_mode": {
    "name": "ipython",
    "version": 3
   },
   "file_extension": ".py",
   "mimetype": "text/x-python",
   "name": "python",
   "nbconvert_exporter": "python",
   "pygments_lexer": "ipython3",
   "version": "3.8.10"
  }
 },
 "nbformat": 4,
 "nbformat_minor": 5
}